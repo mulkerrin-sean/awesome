{
  "cells": [
    {
      "cell_type": "markdown",
      "metadata": {
        "id": "view-in-github",
        "colab_type": "text"
      },
      "source": [
        "<a href=\"https://colab.research.google.com/github/mulkerrin-sean/awesome/blob/main/python-demo-google-colab.ipynb\" target=\"_parent\"><img src=\"https://colab.research.google.com/assets/colab-badge.svg\" alt=\"Open In Colab\"/></a>"
      ]
    },
    {
      "cell_type": "markdown",
      "metadata": {
        "id": "-upwW9uJvYeK"
      },
      "source": [
        "# Try PyGMT on Google Colab"
      ]
    },
    {
      "cell_type": "markdown",
      "metadata": {
        "id": "ctgAtFUPvYeM"
      },
      "source": [
        "This Jupyter Notebook shows how to install and use PyGMT on Google Colab."
      ]
    },
    {
      "cell_type": "markdown",
      "metadata": {
        "id": "H9SkzmuPvYeM"
      },
      "source": [
        "**NOTE:** Any changes will be lost when the Jupyter lab is closed. Select \"File\"->\"Download\" to save notebooks to your computer."
      ]
    },
    {
      "cell_type": "markdown",
      "metadata": {
        "id": "8jrxSLCZvYeM"
      },
      "source": [
        "To execute the code cells, select it and type `Shift + Enter` or click on the \"Run\" ► button in the menu bar.\n",
        "\n",
        "For tutorials and more examples, visit the official website: https://www.pygmt.org"
      ]
    },
    {
      "cell_type": "markdown",
      "metadata": {
        "tags": [],
        "id": "KxOPyPeKvYeN"
      },
      "source": [
        "## Install PyGMT and its dependencies on Google Colab\n",
        "\n",
        "**Google Colab** doesn't have PyGMT and its dependencies installed. We need to follow the instructions below to install them.\n",
        "\n",
        "First, we need to install conda on Google Colab. The installation process is greatly simplified using the [condacolab](https://github.com/conda-incubator/condacolab) package.\n",
        "\n",
        "*After condacolab finishes the installation, it will restart the Python kernel for changes to be applied. This happens automatically. Thus, you will see a message saying \"Your session crashed for an unknown reason\". You can safely ignore this message!*"
      ]
    },
    {
      "cell_type": "code",
      "execution_count": 1,
      "metadata": {
        "id": "g8_adniUvYeN",
        "outputId": "717ec687-22a9-4f66-8d33-8aecd188daab",
        "colab": {
          "base_uri": "https://localhost:8080/"
        }
      },
      "outputs": [
        {
          "output_type": "stream",
          "name": "stdout",
          "text": [
            "⏬ Downloading https://github.com/jaimergp/miniforge/releases/download/24.11.2-1_colab/Miniforge3-colab-24.11.2-1_colab-Linux-x86_64.sh...\n",
            "📦 Installing...\n",
            "📌 Adjusting configuration...\n",
            "🩹 Patching environment...\n",
            "⏲ Done in 0:00:12\n",
            "🔁 Restarting kernel...\n"
          ]
        }
      ],
      "source": [
        "!pip install -q condacolab\n",
        "import condacolab\n",
        "condacolab.install()"
      ]
    },
    {
      "cell_type": "markdown",
      "metadata": {
        "id": "L2LcpGr_vYeO"
      },
      "source": [
        "Now we can install PyGMT and its dependencies using a single command. The installation may take a few minutes:"
      ]
    },
    {
      "cell_type": "code",
      "execution_count": null,
      "metadata": {
        "id": "BVqfSu47vYeO",
        "outputId": "daf7b86a-aef5-49f5-f681-06217a21375f",
        "colab": {
          "base_uri": "https://localhost:8080/"
        }
      },
      "outputs": [
        {
          "output_type": "stream",
          "name": "stdout",
          "text": [
            "\n",
            "Looking for: ['pygmt']\n",
            "\n",
            "\u001b[?25l\u001b[2K\u001b[0G[+] 0.0s\n",
            "conda-forge/linux-64  ⣾  \u001b[2K\u001b[1A\u001b[2K\u001b[0G[+] 0.1s\n",
            "conda-forge/linux-64   1%\n",
            "conda-forge/noarch    ⣾  \u001b[2K\u001b[1A\u001b[2K\u001b[1A\u001b[2K\u001b[0G[+] 0.2s\n",
            "conda-forge/linux-64   7%\n",
            "conda-forge/noarch     5%\u001b[2K\u001b[1A\u001b[2K\u001b[1A\u001b[2K\u001b[0G[+] 0.3s\n",
            "conda-forge/linux-64  13%\n",
            "conda-forge/noarch    13%\u001b[2K\u001b[1A\u001b[2K\u001b[1A\u001b[2K\u001b[0G[+] 0.4s\n",
            "conda-forge/linux-64  15%\n",
            "conda-forge/noarch    28%\u001b[2K\u001b[1A\u001b[2K\u001b[1A\u001b[2K\u001b[0G[+] 0.5s\n",
            "conda-forge/linux-64  22%\n",
            "conda-forge/noarch    41%\u001b[2K\u001b[1A\u001b[2K\u001b[1A\u001b[2K\u001b[0G[+] 0.6s\n",
            "conda-forge/linux-64  26%\n",
            "conda-forge/noarch    51%\u001b[2K\u001b[1A\u001b[2K\u001b[1A\u001b[2K\u001b[0G[+] 0.7s\n",
            "conda-forge/linux-64  29%\n",
            "conda-forge/noarch    60%\u001b[2K\u001b[1A\u001b[2K\u001b[1A\u001b[2K\u001b[0G[+] 0.8s\n",
            "conda-forge/linux-64  34%\n",
            "conda-forge/noarch    63%\u001b[2K\u001b[1A\u001b[2K\u001b[1A\u001b[2K\u001b[0G[+] 0.9s\n",
            "conda-forge/linux-64  38%\n",
            "conda-forge/noarch    72%\u001b[2K\u001b[1A\u001b[2K\u001b[1A\u001b[2K\u001b[0G[+] 1.0s\n",
            "conda-forge/linux-64  43%\n",
            "conda-forge/noarch    82%\u001b[2K\u001b[1A\u001b[2K\u001b[1A\u001b[2K\u001b[0G[+] 1.1s\n",
            "conda-forge/linux-64  46%\n",
            "conda-forge/noarch    93%\u001b[2K\u001b[1A\u001b[2K\u001b[1A\u001b[2K\u001b[0Gconda-forge/noarch                                \n",
            "[+] 1.2s\n",
            "conda-forge/linux-64  50%\u001b[2K\u001b[1A\u001b[2K\u001b[0G[+] 1.3s\n",
            "conda-forge/linux-64  58%\u001b[2K\u001b[1A\u001b[2K\u001b[0G[+] 1.4s\n",
            "conda-forge/linux-64  66%\u001b[2K\u001b[1A\u001b[2K\u001b[0G[+] 1.5s\n",
            "conda-forge/linux-64  74%\u001b[2K\u001b[1A\u001b[2K\u001b[0G[+] 1.6s\n",
            "conda-forge/linux-64  81%\u001b[2K\u001b[1A\u001b[2K\u001b[0G[+] 1.7s\n",
            "conda-forge/linux-64  88%\u001b[2K\u001b[1A\u001b[2K\u001b[0G[+] 1.8s\n",
            "conda-forge/linux-64  96%\u001b[2K\u001b[1A\u001b[2K\u001b[0Gconda-forge/linux-64                              \n",
            "\u001b[?25h"
          ]
        }
      ],
      "source": [
        "!mamba install pygmt"
      ]
    },
    {
      "cell_type": "markdown",
      "metadata": {
        "id": "uhJSvhA5vYeO"
      },
      "source": [
        "## Loading the PyGMT package\n",
        "\n",
        "You can load PyGMT by importing the `pygmt` Python package. Most GMT processing modules will be avialable as functions in this package. The plotting modules are methods of the `pygmt.Figure` class."
      ]
    },
    {
      "cell_type": "code",
      "execution_count": null,
      "metadata": {
        "id": "RQxbci6evYeO"
      },
      "outputs": [],
      "source": [
        "# Load the PyGMT package. This only needs to be run once\n",
        "import pygmt"
      ]
    },
    {
      "cell_type": "markdown",
      "metadata": {
        "id": "oJnjopjyvYeO"
      },
      "source": [
        "## Check the installed environment\n",
        "\n",
        "Before starting, let's first check the current environment:"
      ]
    },
    {
      "cell_type": "code",
      "execution_count": null,
      "metadata": {
        "id": "DdDejE00vYeO"
      },
      "outputs": [],
      "source": [
        "pygmt.show_versions()"
      ]
    },
    {
      "cell_type": "markdown",
      "metadata": {
        "id": "UxLfEwfavYeO"
      },
      "source": [
        "## Example 1"
      ]
    },
    {
      "cell_type": "markdown",
      "metadata": {
        "id": "BtuoYYCwvYeP"
      },
      "source": [
        "All figure generation in PyGMT is handled by the `pygmt.Figure` class.\n",
        "It has methods to add layers to your figure, like a basemap, coastlines, etc."
      ]
    },
    {
      "cell_type": "markdown",
      "metadata": {
        "id": "kuJPzubVvYeP"
      },
      "source": [
        "We start a new figure by creating an instance of `pygmt.Figure`:"
      ]
    },
    {
      "cell_type": "code",
      "execution_count": null,
      "metadata": {
        "id": "O2kmpHjQvYeP"
      },
      "outputs": [],
      "source": [
        "fig = pygmt.Figure()"
      ]
    },
    {
      "cell_type": "markdown",
      "metadata": {
        "id": "C7RlAm11vYeP"
      },
      "source": [
        "We add elements to the figure using its methods. For example, lets add the global coastlines to a 15 cm wide map using the Hammer projection (**H**).\n",
        "Our figure will also have a nice frame with automatic ticks."
      ]
    },
    {
      "cell_type": "code",
      "execution_count": null,
      "metadata": {
        "id": "gqAnYY0lvYeP"
      },
      "outputs": [],
      "source": [
        "fig.coast(region='g', projection='H15c', frame=True, land='lightbrown', water='lightblue')"
      ]
    },
    {
      "cell_type": "markdown",
      "metadata": {
        "id": "xOds-76IvYeP"
      },
      "source": [
        "You can see a preview of the figure directly in the Jupyter notebook using `fig.show()`."
      ]
    },
    {
      "cell_type": "code",
      "execution_count": null,
      "metadata": {
        "id": "LnvHhqH5vYeP"
      },
      "outputs": [],
      "source": [
        "fig.show()"
      ]
    },
    {
      "cell_type": "markdown",
      "metadata": {
        "id": "qKl2j08VvYeP"
      },
      "source": [
        "You can also save your figure in several graphics formats (e.g., png, pdf, jpg) using `fig.savefig()`:"
      ]
    },
    {
      "cell_type": "code",
      "execution_count": null,
      "metadata": {
        "id": "Fs0VyQIvvYeP"
      },
      "outputs": [],
      "source": [
        "fig.savefig(\"global.png\")"
      ]
    },
    {
      "cell_type": "markdown",
      "metadata": {
        "id": "i1J8YwF-vYeP"
      },
      "source": [
        "## Example 2"
      ]
    },
    {
      "cell_type": "code",
      "execution_count": null,
      "metadata": {
        "id": "7XDVKaHpvYeP"
      },
      "outputs": [],
      "source": [
        "from pygmt.datasets import load_earth_relief\n",
        "\n",
        "grid = load_earth_relief(resolution='01d', registration='pixel')\n",
        "\n",
        "fig = pygmt.Figure()\n",
        "fig.basemap(region='g', projection='G200/30/12c', frame=True)\n",
        "fig.grdimage(grid, cmap='geo', shading=True)\n",
        "fig.coast(resolution='c', shorelines=True, area_thresh=1000)\n",
        "fig.plot(data='@hotspots.txt', style='c0.2c', fill='red')\n",
        "fig.colorbar()\n",
        "fig.show()"
      ]
    },
    {
      "cell_type": "markdown",
      "metadata": {
        "id": "XScarkpNvYeP"
      },
      "source": [
        "## Experiment for yourself"
      ]
    },
    {
      "cell_type": "markdown",
      "metadata": {
        "id": "uSxMJZvRvYeP"
      },
      "source": [
        "Try running different things in the cells below or edit and rerun the cells above."
      ]
    },
    {
      "cell_type": "code",
      "execution_count": null,
      "metadata": {
        "id": "hHR33VWkvYeP"
      },
      "outputs": [],
      "source": [
        "fig = pygmt.Figure()\n",
        "# Any Python codes here\n",
        "fig.show()"
      ]
    }
  ],
  "metadata": {
    "kernelspec": {
      "display_name": "Python 3 (ipykernel)",
      "language": "python",
      "name": "python3"
    },
    "language_info": {
      "codemirror_mode": {
        "name": "ipython",
        "version": 3
      },
      "file_extension": ".py",
      "mimetype": "text/x-python",
      "name": "python",
      "nbconvert_exporter": "python",
      "pygments_lexer": "ipython3",
      "version": "3.9.15"
    },
    "colab": {
      "provenance": [],
      "include_colab_link": true
    }
  },
  "nbformat": 4,
  "nbformat_minor": 0
}